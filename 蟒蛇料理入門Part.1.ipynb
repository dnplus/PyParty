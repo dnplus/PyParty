{
 "cells": [
  {
   "cell_type": "markdown",
   "metadata": {},
   "source": [
    "## 準備工具\n",
    "---\n",
    "\n",
    "* Python 3.x\n",
    "* Jupyter notebook\n",
    "* Git"
   ]
  },
  {
   "cell_type": "markdown",
   "metadata": {},
   "source": [
    "## Python安裝\n",
    "---\n",
    "[Python](\"https://www.python.org/downloads/\")\n",
    "\n",
    "[Anaconda](\"https://www.anaconda.com/download/#macos\")\n",
    "\n",
    "\n",
    "## Jupyter安裝\n",
    "---\n",
    "```bash\n",
    "pip install jupyter\n",
    "```\n",
    "\n",
    "## Git安裝\n",
    "---\n",
    "自己想辦法\n"
   ]
  },
  {
   "cell_type": "markdown",
   "metadata": {},
   "source": [
    "## Getting Start\n",
    "---\n",
    "\n",
    "### 啟動Jupyter環境\n",
    "\n",
    "```bash\n",
    "cd <workspace dir>\n",
    "jupyter notebook\n",
    "```\n",
    "\n",
    "### Markdown練習\n",
    "````\n",
    "# H1\n",
    "## H2\n",
    "### H3\n",
    "\n",
    "--- underline-ish style\n",
    "\n",
    "Emphasis, aka italics, with *asterisks* or _underscores_.\n",
    "Strong emphasis, aka bold, with **asterisks** or __underscores__.\n",
    "Combined emphasis with **asterisks and _underscores_**.\n",
    "Strikethrough uses two tildes. ~~Scratch this.~~\n",
    "\n",
    "* Unordered list can use asterisks\n",
    "- Or minuses\n",
    "+ Or pluses\n",
    "\n",
    "[I'm an inline-style link](https://www.google.com)\n",
    "\n",
    "![alt text](https://github.com/adam-p/markdown-here/raw/master/src/common/images/icon48.png \"Logo Title Text 1\")\n",
    "\n",
    "```python\n",
    "s = \"Python syntax highlighting\"\n",
    "print(s)\n",
    "```\n",
    "\n",
    "````\n",
    "\n"
   ]
  },
  {
   "cell_type": "markdown",
   "metadata": {},
   "source": [
    "## 在開始寫程式之前\n",
    "---\n",
    "* __應用場景__\n",
    "    * 數據分析\n",
    "    * 後端伺服器\n",
    "    * 自動化腳本\n",
    "* __想做什麼__\n",
    "    * 網頁爬蟲\n",
    "* __如何進行__\n",
    "    * 雙週執行\n",
    "    * 目前主要 Dylan 分享，之後建議改大家想題目分享\n"
   ]
  },
  {
   "cell_type": "markdown",
   "metadata": {},
   "source": [
    "\n",
    "## 基礎語法\n",
    "---"
   ]
  },
  {
   "cell_type": "code",
   "execution_count": null,
   "metadata": {
    "collapsed": true,
    "scrolled": true
   },
   "outputs": [],
   "source": [
    "print(\"Hello World!\")"
   ]
  },
  {
   "cell_type": "code",
   "execution_count": null,
   "metadata": {
    "collapsed": true,
    "scrolled": true
   },
   "outputs": [],
   "source": [
    "1024 * 2 ** 10"
   ]
  },
  {
   "cell_type": "code",
   "execution_count": null,
   "metadata": {
    "collapsed": true,
    "scrolled": true
   },
   "outputs": [],
   "source": [
    "a=\"1\"\n",
    "b,c,d=2,5j,True\n",
    "print(type(a), type(b), type(c), type(d))\n",
    "print(a*5,b*5.0,c+1,d+1)"
   ]
  },
  {
   "cell_type": "code",
   "execution_count": null,
   "metadata": {
    "collapsed": true,
    "scrolled": true
   },
   "outputs": [],
   "source": [
    "condition=0\n",
    "while condition < 5:\n",
    "    condition = condition + 1\n",
    "    print(\"- \" + str(condition))\n",
    "\n",
    "a = range(10)\n",
    "while a:\n",
    "    print(\"+ \" + str(a[-1]))\n",
    "    a = a[:len(a)-1]"
   ]
  },
  {
   "cell_type": "code",
   "execution_count": null,
   "metadata": {
    "collapsed": true,
    "scrolled": true
   },
   "outputs": [],
   "source": [
    "for i in range(1, 10):\n",
    "    print(i)"
   ]
  },
  {
   "cell_type": "code",
   "execution_count": null,
   "metadata": {
    "collapsed": true,
    "scrolled": true
   },
   "outputs": [],
   "source": [
    "x = 1\n",
    "y = 2\n",
    "z = 3\n",
    "\n",
    "if x < y:\n",
    "    print('x is less than y')\n",
    "if x < y < z:\n",
    "    print('x is less than y, and y is less than z')\n",
    "if x < y and y < z:\n",
    "    print('x is less than y, and y is less than z')\n",
    "\n",
    "a = 'done' if x is 1 else 'start'\n",
    "\n",
    "if x is 1:\n",
    "    a='done'\n",
    "else:\n",
    "    a='start'\n",
    "    \n",
    "print(a)"
   ]
  },
  {
   "cell_type": "markdown",
   "metadata": {},
   "source": [
    "## FizzBuzz小測試\n",
    "---\n",
    "\n",
    "1. 印出 1 - 100 的數字\n",
    "2. 當遇到 3 的倍數則改印 Fizz\n",
    "3. 當遇到 5 的倍數則改印 Buzz\n",
    "4. 當同為 3,5 的倍數則印 FizzBuzz\n"
   ]
  },
  {
   "cell_type": "code",
   "execution_count": null,
   "metadata": {
    "collapsed": true,
    "scrolled": true
   },
   "outputs": [],
   "source": [
    "# Example 1\n",
    "for i in range(1, 101):\n",
    "    result=\"\"\n",
    "    if i % 3 is 0:\n",
    "        result=\"Fizz\"\n",
    "    if i % 5 is 0:\n",
    "        result= result + \"Buzz\"\n",
    "    print(result) if result != \"\" else print(i)\n",
    "        "
   ]
  },
  {
   "cell_type": "code",
   "execution_count": null,
   "metadata": {
    "collapsed": true,
    "scrolled": true
   },
   "outputs": [],
   "source": [
    "# Example 2\n",
    "for i in range(1,101):\n",
    "    ret=str(i)\n",
    "    if(i % 3 is 0) : ret='Fizz'\n",
    "    if(i % 5 is 0) : ret='Buzz'\n",
    "    if(i % 15 is 0): ret='FizzBuzz'\n",
    "    print(ret)"
   ]
  },
  {
   "cell_type": "markdown",
   "metadata": {},
   "source": [
    "## 回家作業\n",
    "---\n",
    "\n",
    "1. 承 FizzBuzz 小測試\n",
    "    * 範圍改為 1 - 105\n",
    "    * 新增 7 的倍數改印 Woof\n",
    "    * 3, 7 則印 FizzWoof\n",
    "    * 5, 7 則印 BuzzWoof\n",
    "    * 3, 5, 7 則印 FizzBuzzWoof\n",
    "2. 給一數列(list) `[1, 5, 6, 125, -1, 0, 5]`，將其由小排到大，方法不拘\n",
    "3. 計算閏年，閏年回應 True 平年則回應 False，判斷條件如下\n",
    "    * 西元年份除以4不可整除，為平年。\n",
    "    * 西元年份除以4可整除，且除以100不可整除，為閏年。\n",
    "    * 西元年份除以100可整除，且除以400不可整除，為平年\n",
    "    * 西元年份除以400可整除，為閏年。\n",
    "4. 分享建議，請用 Jupyter Notebook 製作(主要目的是練習 markdown)\n",
    "\n",
    "*ps.下次課程沒交要罰酒😏*"
   ]
  },
  {
   "cell_type": "code",
   "execution_count": null,
   "metadata": {
    "collapsed": true,
    "scrolled": true
   },
   "outputs": [],
   "source": [
    "# (1)\n",
    "# implement here\n",
    "\n",
    "# (2)\n",
    "a=[1, 5, 6, 125, -1, 0, 5]\n",
    "# sort a\n",
    "\n",
    "print(a)\n",
    "\n",
    "# (3)\n",
    "def isLeapYear(year):\n",
    "    # implement leap year function\n",
    "    return True\n",
    "\n",
    "print(isLeapYear(2000))"
   ]
  }
 ],
 "metadata": {
  "kernelspec": {
   "display_name": "Python 3",
   "language": "python",
   "name": "python3"
  },
  "language_info": {
   "codemirror_mode": {
    "name": "ipython",
    "version": 3
   },
   "file_extension": ".py",
   "mimetype": "text/x-python",
   "name": "python",
   "nbconvert_exporter": "python",
   "pygments_lexer": "ipython3",
   "version": "3.6.4"
  }
 },
 "nbformat": 4,
 "nbformat_minor": 2
}
